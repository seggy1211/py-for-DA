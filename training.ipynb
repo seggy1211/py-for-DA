{
 "cells": [
  {
   "cell_type": "markdown",
   "metadata": {},
   "source": [
    "Practicing with json"
   ]
  },
  {
   "cell_type": "code",
   "execution_count": 1,
   "metadata": {},
   "outputs": [
    {
     "data": {
      "text/plain": [
       "'{ \"a\": \"Mozilla\\\\/5.0 (Windows NT 6.1; WOW64) AppleWebKit\\\\/535.11 (KHTML, like Gecko) Chrome\\\\/17.0.963.78 Safari\\\\/535.11\", \"c\": \"US\", \"nk\": 1, \"tz\": \"America\\\\/New_York\", \"gr\": \"MA\", \"g\": \"A6qOVH\", \"h\": \"wfLQtf\", \"l\": \"orofrog\", \"al\": \"en-US,en;q=0.8\", \"hh\": \"1.usa.gov\", \"r\": \"http:\\\\/\\\\/www.facebook.com\\\\/l\\\\/7AQEFzjSi\\\\/1.usa.gov\\\\/wfLQtf\", \"u\": \"http:\\\\/\\\\/www.ncbi.nlm.nih.gov\\\\/pubmed\\\\/22415991\", \"t\": 1331923247, \"hc\": 1331822918, \"cy\": \"Danvers\", \"ll\": [ 42.576698, -70.954903 ] }\\n'"
      ]
     },
     "execution_count": 1,
     "metadata": {},
     "output_type": "execute_result"
    }
   ],
   "source": [
    "import numpy as np\n",
    "from pandas import DataFrame, Series\n",
    "import pandas as pd\n",
    "path = \"./usagov_bitly_data2012-03-16-1331923249.txt\"\n",
    "open(path).readline()"
   ]
  },
  {
   "cell_type": "code",
   "execution_count": 2,
   "metadata": {},
   "outputs": [
    {
     "data": {
      "text/plain": [
       "{'a': 'Mozilla/5.0 (Windows NT 6.1; WOW64) AppleWebKit/535.11 (KHTML, like Gecko) Chrome/17.0.963.78 Safari/535.11',\n",
       " 'c': 'US',\n",
       " 'nk': 1,\n",
       " 'tz': 'America/New_York',\n",
       " 'gr': 'MA',\n",
       " 'g': 'A6qOVH',\n",
       " 'h': 'wfLQtf',\n",
       " 'l': 'orofrog',\n",
       " 'al': 'en-US,en;q=0.8',\n",
       " 'hh': '1.usa.gov',\n",
       " 'r': 'http://www.facebook.com/l/7AQEFzjSi/1.usa.gov/wfLQtf',\n",
       " 'u': 'http://www.ncbi.nlm.nih.gov/pubmed/22415991',\n",
       " 't': 1331923247,\n",
       " 'hc': 1331822918,\n",
       " 'cy': 'Danvers',\n",
       " 'll': [42.576698, -70.954903]}"
      ]
     },
     "execution_count": 2,
     "metadata": {},
     "output_type": "execute_result"
    }
   ],
   "source": [
    "import json\n",
    "records = [json.loads(line) for line in open(path)] \n",
    "records[0] # list of dictionaries"
   ]
  },
  {
   "cell_type": "code",
   "execution_count": 3,
   "metadata": {},
   "outputs": [
    {
     "data": {
      "text/plain": [
       "Index(['America', 'Unknown location', 'Europe', 'Asia', 'Pacific', 'Africa',\n",
       "       'Australia', 'Chile'],\n",
       "      dtype='object')"
      ]
     },
     "execution_count": 3,
     "metadata": {},
     "output_type": "execute_result"
    }
   ],
   "source": [
    "frame = DataFrame(records)\n",
    "frame.iloc[0:10]\n",
    "results = Series([x.split('/')[0] for x in frame.tz.dropna()]) # .dropna() removes any row that contains at least one missing value, 'a' is the name of column\n",
    "# Series([x for x in frame.a.dropna()]) frame is frame = DataFrame(records) \n",
    "results.fillna('Missing')\n",
    "results[results == ''] = 'Unknown location'\n",
    "places = results.value_counts()\n",
    "regions = places.index\n",
    "regions\n"
   ]
  },
  {
   "cell_type": "code",
   "execution_count": 4,
   "metadata": {},
   "outputs": [],
   "source": [
    "x = input(f'What region do you want to see the data for:\\n{\"    \".join([f\"{i+1}. {region}\" for i, region in enumerate(regions)])}\\n Type the corresponding number: ')\n",
    "try:\n",
    "    x = int(x)\n",
    "    word = regions[x-1]\n",
    "except:\n",
    "    print('Not a valid number')\n"
   ]
  },
  {
   "cell_type": "code",
   "execution_count": 5,
   "metadata": {},
   "outputs": [
    {
     "data": {
      "text/plain": [
       "{'ll': [-33.709999, 150.960007]}"
      ]
     },
     "execution_count": 5,
     "metadata": {},
     "output_type": "execute_result"
    }
   ],
   "source": [
    " # important only way to get frame['ll']\n",
    "lola = frame['ll']\n",
    "# latidtude, longitude \n",
    "essai = frame[frame.ll.notnull()]\n",
    "essai['tz'].str.contains(word)\n",
    "essai = essai[essai['tz'].str.contains(word)]\n",
    "spisok = essai['ll']\n",
    "spisok = [{\"ll\": x} for x in spisok]\n",
    "spisok[0]"
   ]
  },
  {
   "cell_type": "code",
   "execution_count": 6,
   "metadata": {},
   "outputs": [],
   "source": [
    "import folium\n",
    "from folium.plugins import MarkerCluster\n",
    "# latitude = essai[0]\n",
    "# longitude = essai[1]\n",
    "# m = folium.Map(location=[latitude, longitude], zoom_start=5)\n",
    "# folium.Marker([latitude, longitude], popup='Your location').add_to(m)"
   ]
  },
  {
   "cell_type": "code",
   "execution_count": 7,
   "metadata": {},
   "outputs": [
    {
     "data": {
      "text/html": [
       "<div style=\"width:100%;\"><div style=\"position:relative;width:100%;height:0;padding-bottom:60%;\"><span style=\"color:#565656\">Make this Notebook Trusted to load map: File -> Trust Notebook</span><iframe srcdoc=\"&lt;!DOCTYPE html&gt;\n",
       "&lt;html&gt;\n",
       "&lt;head&gt;\n",
       "    \n",
       "    &lt;meta http-equiv=&quot;content-type&quot; content=&quot;text/html; charset=UTF-8&quot; /&gt;\n",
       "    \n",
       "        &lt;script&gt;\n",
       "            L_NO_TOUCH = false;\n",
       "            L_DISABLE_3D = false;\n",
       "        &lt;/script&gt;\n",
       "    \n",
       "    &lt;style&gt;html, body {width: 100%;height: 100%;margin: 0;padding: 0;}&lt;/style&gt;\n",
       "    &lt;style&gt;#map {position:absolute;top:0;bottom:0;right:0;left:0;}&lt;/style&gt;\n",
       "    &lt;script src=&quot;https://cdn.jsdelivr.net/npm/leaflet@1.9.3/dist/leaflet.js&quot;&gt;&lt;/script&gt;\n",
       "    &lt;script src=&quot;https://code.jquery.com/jquery-3.7.1.min.js&quot;&gt;&lt;/script&gt;\n",
       "    &lt;script src=&quot;https://cdn.jsdelivr.net/npm/bootstrap@5.2.2/dist/js/bootstrap.bundle.min.js&quot;&gt;&lt;/script&gt;\n",
       "    &lt;script src=&quot;https://cdnjs.cloudflare.com/ajax/libs/Leaflet.awesome-markers/2.0.2/leaflet.awesome-markers.js&quot;&gt;&lt;/script&gt;\n",
       "    &lt;link rel=&quot;stylesheet&quot; href=&quot;https://cdn.jsdelivr.net/npm/leaflet@1.9.3/dist/leaflet.css&quot;/&gt;\n",
       "    &lt;link rel=&quot;stylesheet&quot; href=&quot;https://cdn.jsdelivr.net/npm/bootstrap@5.2.2/dist/css/bootstrap.min.css&quot;/&gt;\n",
       "    &lt;link rel=&quot;stylesheet&quot; href=&quot;https://netdna.bootstrapcdn.com/bootstrap/3.0.0/css/bootstrap.min.css&quot;/&gt;\n",
       "    &lt;link rel=&quot;stylesheet&quot; href=&quot;https://cdn.jsdelivr.net/npm/@fortawesome/fontawesome-free@6.2.0/css/all.min.css&quot;/&gt;\n",
       "    &lt;link rel=&quot;stylesheet&quot; href=&quot;https://cdnjs.cloudflare.com/ajax/libs/Leaflet.awesome-markers/2.0.2/leaflet.awesome-markers.css&quot;/&gt;\n",
       "    &lt;link rel=&quot;stylesheet&quot; href=&quot;https://cdn.jsdelivr.net/gh/python-visualization/folium/folium/templates/leaflet.awesome.rotate.min.css&quot;/&gt;\n",
       "    \n",
       "            &lt;meta name=&quot;viewport&quot; content=&quot;width=device-width,\n",
       "                initial-scale=1.0, maximum-scale=1.0, user-scalable=no&quot; /&gt;\n",
       "            &lt;style&gt;\n",
       "                #map_04b19d20e49d693aa4444c0aada0c64a {\n",
       "                    position: relative;\n",
       "                    width: 100.0%;\n",
       "                    height: 100.0%;\n",
       "                    left: 0.0%;\n",
       "                    top: 0.0%;\n",
       "                }\n",
       "                .leaflet-container { font-size: 1rem; }\n",
       "            &lt;/style&gt;\n",
       "        \n",
       "    &lt;script src=&quot;https://cdnjs.cloudflare.com/ajax/libs/leaflet.markercluster/1.1.0/leaflet.markercluster.js&quot;&gt;&lt;/script&gt;\n",
       "    &lt;link rel=&quot;stylesheet&quot; href=&quot;https://cdnjs.cloudflare.com/ajax/libs/leaflet.markercluster/1.1.0/MarkerCluster.css&quot;/&gt;\n",
       "    &lt;link rel=&quot;stylesheet&quot; href=&quot;https://cdnjs.cloudflare.com/ajax/libs/leaflet.markercluster/1.1.0/MarkerCluster.Default.css&quot;/&gt;\n",
       "&lt;/head&gt;\n",
       "&lt;body&gt;\n",
       "    \n",
       "    \n",
       "            &lt;div class=&quot;folium-map&quot; id=&quot;map_04b19d20e49d693aa4444c0aada0c64a&quot; &gt;&lt;/div&gt;\n",
       "        \n",
       "&lt;/body&gt;\n",
       "&lt;script&gt;\n",
       "    \n",
       "    \n",
       "            var map_04b19d20e49d693aa4444c0aada0c64a = L.map(\n",
       "                &quot;map_04b19d20e49d693aa4444c0aada0c64a&quot;,\n",
       "                {\n",
       "                    center: [-33.709999, 150.960007],\n",
       "                    crs: L.CRS.EPSG3857,\n",
       "                    zoom: 3,\n",
       "                    zoomControl: true,\n",
       "                    preferCanvas: false,\n",
       "                }\n",
       "            );\n",
       "\n",
       "            \n",
       "\n",
       "        \n",
       "    \n",
       "            var tile_layer_5aa5661b5a0783a2756962cb6bb44a46 = L.tileLayer(\n",
       "                &quot;https://{s}.tile.openstreetmap.org/{z}/{x}/{y}.png&quot;,\n",
       "                {&quot;attribution&quot;: &quot;Data by \\u0026copy; \\u003ca target=\\&quot;_blank\\&quot; href=\\&quot;http://openstreetmap.org\\&quot;\\u003eOpenStreetMap\\u003c/a\\u003e, under \\u003ca target=\\&quot;_blank\\&quot; href=\\&quot;http://www.openstreetmap.org/copyright\\&quot;\\u003eODbL\\u003c/a\\u003e.&quot;, &quot;detectRetina&quot;: false, &quot;maxNativeZoom&quot;: 18, &quot;maxZoom&quot;: 18, &quot;minZoom&quot;: 0, &quot;noWrap&quot;: false, &quot;opacity&quot;: 1, &quot;subdomains&quot;: &quot;abc&quot;, &quot;tms&quot;: false}\n",
       "            );\n",
       "        \n",
       "    \n",
       "                tile_layer_5aa5661b5a0783a2756962cb6bb44a46.addTo(map_04b19d20e49d693aa4444c0aada0c64a);\n",
       "    \n",
       "            var marker_cluster_2e4bf0aa82b580c87470ea84bf7b4ed7 = L.markerClusterGroup(\n",
       "                {}\n",
       "            );\n",
       "        \n",
       "    \n",
       "            var marker_5b5ec151a941e949191da7c5f52930da = L.marker(\n",
       "                [-33.709999, 150.960007],\n",
       "                {}\n",
       "            ).addTo(marker_cluster_2e4bf0aa82b580c87470ea84bf7b4ed7);\n",
       "        \n",
       "    \n",
       "        var popup_cc21fd19fccc9a160a69e7ef9a942271 = L.popup({&quot;maxWidth&quot;: &quot;100%&quot;});\n",
       "\n",
       "        \n",
       "            \n",
       "                var html_697dcd8ce95d17de2a30dd1187d0f2b4 = $(`&lt;div id=&quot;html_697dcd8ce95d17de2a30dd1187d0f2b4&quot; style=&quot;width: 100.0%; height: 100.0%;&quot;&gt;Location&lt;/div&gt;`)[0];\n",
       "                popup_cc21fd19fccc9a160a69e7ef9a942271.setContent(html_697dcd8ce95d17de2a30dd1187d0f2b4);\n",
       "            \n",
       "        \n",
       "\n",
       "        marker_5b5ec151a941e949191da7c5f52930da.bindPopup(popup_cc21fd19fccc9a160a69e7ef9a942271)\n",
       "        ;\n",
       "\n",
       "        \n",
       "    \n",
       "    \n",
       "            var marker_0029cd65a7dfc568122aec9fd6e2a940 = L.marker(\n",
       "                [-33.886101, 151.214401],\n",
       "                {}\n",
       "            ).addTo(marker_cluster_2e4bf0aa82b580c87470ea84bf7b4ed7);\n",
       "        \n",
       "    \n",
       "        var popup_5d8a6da473764461dccc32c138447587 = L.popup({&quot;maxWidth&quot;: &quot;100%&quot;});\n",
       "\n",
       "        \n",
       "            \n",
       "                var html_308a2b769639c477f0a2178ecb16d2d2 = $(`&lt;div id=&quot;html_308a2b769639c477f0a2178ecb16d2d2&quot; style=&quot;width: 100.0%; height: 100.0%;&quot;&gt;Location&lt;/div&gt;`)[0];\n",
       "                popup_5d8a6da473764461dccc32c138447587.setContent(html_308a2b769639c477f0a2178ecb16d2d2);\n",
       "            \n",
       "        \n",
       "\n",
       "        marker_0029cd65a7dfc568122aec9fd6e2a940.bindPopup(popup_5d8a6da473764461dccc32c138447587)\n",
       "        ;\n",
       "\n",
       "        \n",
       "    \n",
       "    \n",
       "            var marker_70598dc27828478fa1b053843e1b9126 = L.marker(\n",
       "                [-16.4667, 145.366699],\n",
       "                {}\n",
       "            ).addTo(marker_cluster_2e4bf0aa82b580c87470ea84bf7b4ed7);\n",
       "        \n",
       "    \n",
       "        var popup_ce94acbc8985977b33debcd938ca8b06 = L.popup({&quot;maxWidth&quot;: &quot;100%&quot;});\n",
       "\n",
       "        \n",
       "            \n",
       "                var html_a3cfc0e68cb650d5fdbd10258f23b32c = $(`&lt;div id=&quot;html_a3cfc0e68cb650d5fdbd10258f23b32c&quot; style=&quot;width: 100.0%; height: 100.0%;&quot;&gt;Location&lt;/div&gt;`)[0];\n",
       "                popup_ce94acbc8985977b33debcd938ca8b06.setContent(html_a3cfc0e68cb650d5fdbd10258f23b32c);\n",
       "            \n",
       "        \n",
       "\n",
       "        marker_70598dc27828478fa1b053843e1b9126.bindPopup(popup_ce94acbc8985977b33debcd938ca8b06)\n",
       "        ;\n",
       "\n",
       "        \n",
       "    \n",
       "    \n",
       "            var marker_155f2ed6d8be56b7cf08d304f80683b2 = L.marker(\n",
       "                [-34.533298, 150.866699],\n",
       "                {}\n",
       "            ).addTo(marker_cluster_2e4bf0aa82b580c87470ea84bf7b4ed7);\n",
       "        \n",
       "    \n",
       "        var popup_a07b107d9627332dd3319c76eb8c9752 = L.popup({&quot;maxWidth&quot;: &quot;100%&quot;});\n",
       "\n",
       "        \n",
       "            \n",
       "                var html_109925f11da342a0e29d844e8fc7fe76 = $(`&lt;div id=&quot;html_109925f11da342a0e29d844e8fc7fe76&quot; style=&quot;width: 100.0%; height: 100.0%;&quot;&gt;Location&lt;/div&gt;`)[0];\n",
       "                popup_a07b107d9627332dd3319c76eb8c9752.setContent(html_109925f11da342a0e29d844e8fc7fe76);\n",
       "            \n",
       "        \n",
       "\n",
       "        marker_155f2ed6d8be56b7cf08d304f80683b2.bindPopup(popup_a07b107d9627332dd3319c76eb8c9752)\n",
       "        ;\n",
       "\n",
       "        \n",
       "    \n",
       "    \n",
       "            var marker_0c434e6ea58192d879a2e316e11eb365 = L.marker(\n",
       "                [-32.916698, 151.75],\n",
       "                {}\n",
       "            ).addTo(marker_cluster_2e4bf0aa82b580c87470ea84bf7b4ed7);\n",
       "        \n",
       "    \n",
       "        var popup_15c210e80693375e1124ef481eaa805c = L.popup({&quot;maxWidth&quot;: &quot;100%&quot;});\n",
       "\n",
       "        \n",
       "            \n",
       "                var html_72229efbaeb413341ccfe4e865f66a2b = $(`&lt;div id=&quot;html_72229efbaeb413341ccfe4e865f66a2b&quot; style=&quot;width: 100.0%; height: 100.0%;&quot;&gt;Location&lt;/div&gt;`)[0];\n",
       "                popup_15c210e80693375e1124ef481eaa805c.setContent(html_72229efbaeb413341ccfe4e865f66a2b);\n",
       "            \n",
       "        \n",
       "\n",
       "        marker_0c434e6ea58192d879a2e316e11eb365.bindPopup(popup_15c210e80693375e1124ef481eaa805c)\n",
       "        ;\n",
       "\n",
       "        \n",
       "    \n",
       "    \n",
       "            var marker_a2daaa43e88ca050490881730e362e33 = L.marker(\n",
       "                [-33.833302, 151.140793],\n",
       "                {}\n",
       "            ).addTo(marker_cluster_2e4bf0aa82b580c87470ea84bf7b4ed7);\n",
       "        \n",
       "    \n",
       "        var popup_918bf19719e90408a750069505904c23 = L.popup({&quot;maxWidth&quot;: &quot;100%&quot;});\n",
       "\n",
       "        \n",
       "            \n",
       "                var html_45188062235ef0f44077a260ea66e23b = $(`&lt;div id=&quot;html_45188062235ef0f44077a260ea66e23b&quot; style=&quot;width: 100.0%; height: 100.0%;&quot;&gt;Location&lt;/div&gt;`)[0];\n",
       "                popup_918bf19719e90408a750069505904c23.setContent(html_45188062235ef0f44077a260ea66e23b);\n",
       "            \n",
       "        \n",
       "\n",
       "        marker_a2daaa43e88ca050490881730e362e33.bindPopup(popup_918bf19719e90408a750069505904c23)\n",
       "        ;\n",
       "\n",
       "        \n",
       "    \n",
       "    \n",
       "            var marker_468c2bec95eefd35d37f9fab65f8b13a = L.marker(\n",
       "                [-33.733299, 150.883301],\n",
       "                {}\n",
       "            ).addTo(marker_cluster_2e4bf0aa82b580c87470ea84bf7b4ed7);\n",
       "        \n",
       "    \n",
       "        var popup_55c4baffdf37108f3d34a7446ad06340 = L.popup({&quot;maxWidth&quot;: &quot;100%&quot;});\n",
       "\n",
       "        \n",
       "            \n",
       "                var html_b263d8292fafb1a878706ef635591633 = $(`&lt;div id=&quot;html_b263d8292fafb1a878706ef635591633&quot; style=&quot;width: 100.0%; height: 100.0%;&quot;&gt;Location&lt;/div&gt;`)[0];\n",
       "                popup_55c4baffdf37108f3d34a7446ad06340.setContent(html_b263d8292fafb1a878706ef635591633);\n",
       "            \n",
       "        \n",
       "\n",
       "        marker_468c2bec95eefd35d37f9fab65f8b13a.bindPopup(popup_55c4baffdf37108f3d34a7446ad06340)\n",
       "        ;\n",
       "\n",
       "        \n",
       "    \n",
       "    \n",
       "                marker_cluster_2e4bf0aa82b580c87470ea84bf7b4ed7.addTo(map_04b19d20e49d693aa4444c0aada0c64a);\n",
       "&lt;/script&gt;\n",
       "&lt;/html&gt;\" style=\"position:absolute;width:100%;height:100%;left:0;top:0;border:none !important;\" allowfullscreen webkitallowfullscreen mozallowfullscreen></iframe></div></div>"
      ],
      "text/plain": [
       "<folium.folium.Map at 0x1e34685ae90>"
      ]
     },
     "execution_count": 7,
     "metadata": {},
     "output_type": "execute_result"
    }
   ],
   "source": [
    "spisok # a list that stores dictionaries e.g. {\"ll\": [42.576698, -70.954903]}\n",
    "m = folium.Map(location=[spisok[0]['ll'][0], spisok[0]['ll'][1]], zoom_start=3)  # Set the initial view to the first point\n",
    "marker_cluster = MarkerCluster().add_to(m)\n",
    "\n",
    "# Add markers to the marker cluster\n",
    "for point in spisok:\n",
    "    folium.Marker(point['ll'], popup='Location').add_to(marker_cluster)\n",
    "\n",
    "# Display the map\n",
    "m\n"
   ]
  }
 ],
 "metadata": {
  "kernelspec": {
   "display_name": "base",
   "language": "python",
   "name": "python3"
  },
  "language_info": {
   "codemirror_mode": {
    "name": "ipython",
    "version": 3
   },
   "file_extension": ".py",
   "mimetype": "text/x-python",
   "name": "python",
   "nbconvert_exporter": "python",
   "pygments_lexer": "ipython3",
   "version": "3.11.5"
  }
 },
 "nbformat": 4,
 "nbformat_minor": 2
}
